{
 "cells": [
  {
   "cell_type": "code",
   "execution_count": 16,
   "id": "63bd8bf8-f19b-4341-a204-f8996cdc4778",
   "metadata": {},
   "outputs": [],
   "source": [
    "import jax\n",
    "import jax.numpy as jnp\n",
    "\n",
    "from einops import rearrange, repeat, reduce, einsum"
   ]
  },
  {
   "cell_type": "code",
   "execution_count": 7,
   "id": "887c645e-f3b8-40c5-8efd-b441f9bea346",
   "metadata": {},
   "outputs": [],
   "source": [
    "key = jax.random.PRNGKey(0)"
   ]
  },
  {
   "cell_type": "markdown",
   "id": "9d04c32b-7c1e-46b6-b9ef-e087c63b2f7b",
   "metadata": {},
   "source": [
    "### Reduce"
   ]
  },
  {
   "cell_type": "code",
   "execution_count": 13,
   "id": "861fa86a-87a6-47ae-b29c-30206daa3045",
   "metadata": {},
   "outputs": [
    {
     "data": {
      "text/plain": [
       "(10, 1, 32, 32)"
      ]
     },
     "execution_count": 13,
     "metadata": {},
     "output_type": "execute_result"
    }
   ],
   "source": [
    "B, C, H, W = 10, 1, 32, 32\n",
    "x1 = jax.random.normal(key, (B, C, H, W))\n",
    "x1.shape"
   ]
  },
  {
   "cell_type": "code",
   "execution_count": 15,
   "id": "7f6ebdf5-15f7-4856-99cc-9649684b5b57",
   "metadata": {},
   "outputs": [
    {
     "data": {
      "text/plain": [
       "Array([[ 1.4746953 , -1.6530293 ],\n",
       "       [ 0.21714313,  0.87025946]], dtype=float32)"
      ]
     },
     "execution_count": 15,
     "metadata": {},
     "output_type": "execute_result"
    }
   ],
   "source": [
    "x1[0,0,:2,:2]"
   ]
  },
  {
   "cell_type": "code",
   "execution_count": 23,
   "id": "d1526028-e015-46f1-a2a3-56ddab27ee0f",
   "metadata": {},
   "outputs": [
    {
     "data": {
      "text/plain": [
       "(1, 1, 32, 32)"
      ]
     },
     "execution_count": 23,
     "metadata": {},
     "output_type": "execute_result"
    }
   ],
   "source": [
    "batch_mean = reduce(x1, 'b c h w -> 1 c h w', 'mean')\n",
    "batch_mean.shape"
   ]
  },
  {
   "cell_type": "markdown",
   "id": "ec853841-b1a1-43bc-bf71-ab122715e3d4",
   "metadata": {},
   "source": [
    "### Rearrange"
   ]
  },
  {
   "cell_type": "code",
   "execution_count": 24,
   "id": "3f1c42b5-1642-4636-a3b0-53d94f152ada",
   "metadata": {},
   "outputs": [
    {
     "data": {
      "text/plain": [
       "(10, 1, 32, 32)"
      ]
     },
     "execution_count": 24,
     "metadata": {},
     "output_type": "execute_result"
    }
   ],
   "source": [
    "B, C, H, W = 10, 1, 32, 32\n",
    "x1 = jax.random.normal(key, (B, C, H, W))\n",
    "x1.shape"
   ]
  },
  {
   "cell_type": "code",
   "execution_count": 25,
   "id": "cff5165b-e9db-47a6-b939-b1f3686c85fd",
   "metadata": {},
   "outputs": [
    {
     "data": {
      "text/plain": [
       "(10240,)"
      ]
     },
     "execution_count": 25,
     "metadata": {},
     "output_type": "execute_result"
    }
   ],
   "source": [
    "rearrange(x1, 'b c h w -> (b c h w)').shape"
   ]
  },
  {
   "cell_type": "markdown",
   "id": "365709db-76ef-44ef-a657-098825d2c04b",
   "metadata": {},
   "source": [
    "### Repeat"
   ]
  },
  {
   "cell_type": "code",
   "execution_count": 27,
   "id": "46b92869-159c-456a-a7f0-76d993659f42",
   "metadata": {},
   "outputs": [
    {
     "data": {
      "text/plain": [
       "(10, 1, 32, 32)"
      ]
     },
     "execution_count": 27,
     "metadata": {},
     "output_type": "execute_result"
    }
   ],
   "source": [
    "B, C, H, W = 10, 1, 32, 32\n",
    "x1 = jax.random.normal(key, (B, C, H, W))\n",
    "x1.shape"
   ]
  },
  {
   "cell_type": "code",
   "execution_count": 29,
   "id": "8946d1d7-683d-48c7-b9a3-83d7452383b4",
   "metadata": {},
   "outputs": [
    {
     "data": {
      "text/plain": [
       "(10, 10, 1, 32, 32)"
      ]
     },
     "execution_count": 29,
     "metadata": {},
     "output_type": "execute_result"
    }
   ],
   "source": [
    "repeat(x1, 'b c h w -> b tile c h w', tile=10).shape"
   ]
  },
  {
   "cell_type": "code",
   "execution_count": null,
   "id": "e24ec55a-1889-41cb-8629-2f65210172ed",
   "metadata": {},
   "outputs": [],
   "source": []
  }
 ],
 "metadata": {
  "kernelspec": {
   "display_name": "jax.cwang31",
   "language": "python",
   "name": "jax.cwang31"
  },
  "language_info": {
   "codemirror_mode": {
    "name": "ipython",
    "version": 3
   },
   "file_extension": ".py",
   "mimetype": "text/x-python",
   "name": "python",
   "nbconvert_exporter": "python",
   "pygments_lexer": "ipython3",
   "version": "3.9.20"
  }
 },
 "nbformat": 4,
 "nbformat_minor": 5
}
