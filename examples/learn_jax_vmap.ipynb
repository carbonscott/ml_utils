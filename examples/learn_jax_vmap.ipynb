{
 "cells": [
  {
   "cell_type": "code",
   "execution_count": 1,
   "id": "bb7d8e7f-6b3b-4146-86cc-f7a982aed02a",
   "metadata": {},
   "outputs": [],
   "source": [
    "import einops"
   ]
  },
  {
   "cell_type": "markdown",
   "id": "71b3a739-e017-4c39-a44b-8296d8422085",
   "metadata": {},
   "source": [
    "### Build up vmap one dimension at a time"
   ]
  },
  {
   "cell_type": "code",
   "execution_count": 14,
   "id": "1f94a199-bad5-44d0-8d37-c81ed71b9391",
   "metadata": {},
   "outputs": [],
   "source": [
    "# Create example matrices\n",
    "key = jax.random.PRNGKey(0)\n",
    "mat1 = jax.random.normal(key, (2, 4, 3))\n",
    "mat2 = jax.random.normal(key, (2, 3, 5))\n",
    "\n",
    "# Assume jnp.vdot: [a], [a] -> []\n",
    "mv = vmap(jnp.vdot, in_axes=(0, None), out_axes=0) # [b, a], [a] -> [b]\n",
    "mm = vmap(mv, in_axes=(None, 1), out_axes=1) # [b, a], [a, c] -> [b,c]\n",
    "bm = vmap(mm, in_axes=(0, 0), out_axes=0) # [d, b, a], [d, a, c] -> [d,b,c]"
   ]
  },
  {
   "cell_type": "code",
   "execution_count": 15,
   "id": "93ecce95-9bf2-4e9b-8b15-e272e7dc00ae",
   "metadata": {},
   "outputs": [
    {
     "data": {
      "text/plain": [
       "(2, 4, 5)"
      ]
     },
     "execution_count": 15,
     "metadata": {},
     "output_type": "execute_result"
    }
   ],
   "source": [
    "bm(mat1, mat2).shape"
   ]
  }
 ],
 "metadata": {
  "kernelspec": {
   "display_name": "jax.cwang31",
   "language": "python",
   "name": "jax.cwang31"
  },
  "language_info": {
   "codemirror_mode": {
    "name": "ipython",
    "version": 3
   },
   "file_extension": ".py",
   "mimetype": "text/x-python",
   "name": "python",
   "nbconvert_exporter": "python",
   "pygments_lexer": "ipython3",
   "version": "3.9.20"
  }
 },
 "nbformat": 4,
 "nbformat_minor": 5
}
