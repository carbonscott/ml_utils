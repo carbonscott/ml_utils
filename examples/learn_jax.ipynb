{
 "cells": [
  {
   "cell_type": "code",
   "execution_count": 1,
   "id": "77338882-f931-42bf-8039-436c13b9c52c",
   "metadata": {},
   "outputs": [],
   "source": [
    "from timeit import timeit"
   ]
  },
  {
   "cell_type": "code",
   "execution_count": 2,
   "id": "08295bfa-1eea-48ed-abdd-db098e5f58cb",
   "metadata": {},
   "outputs": [],
   "source": [
    "import jax\n",
    "import jax.numpy as jnp"
   ]
  },
  {
   "cell_type": "code",
   "execution_count": 3,
   "id": "97e5cce0-a2ee-4490-8fb1-2e972ad1ecad",
   "metadata": {},
   "outputs": [],
   "source": [
    "import einops"
   ]
  },
  {
   "cell_type": "markdown",
   "id": "c6e87855-984b-41b7-aa3c-49babdf0bf61",
   "metadata": {},
   "source": [
    "### Devices"
   ]
  },
  {
   "cell_type": "code",
   "execution_count": 4,
   "id": "34f57a0f-8fc0-4c0c-a031-b71f17348c8e",
   "metadata": {},
   "outputs": [
    {
     "data": {
      "text/plain": [
       "[cuda(id=0), cuda(id=1), cuda(id=2), cuda(id=3)]"
      ]
     },
     "execution_count": 4,
     "metadata": {},
     "output_type": "execute_result"
    }
   ],
   "source": [
    "devices = jax.devices()\n",
    "devices"
   ]
  },
  {
   "cell_type": "markdown",
   "id": "49cbf812-49b3-4445-85dd-3770d4984a7d",
   "metadata": {},
   "source": [
    "### Array"
   ]
  },
  {
   "cell_type": "code",
   "execution_count": 5,
   "id": "2aa637d3-7034-4ff1-a027-a8b6b73f97a6",
   "metadata": {},
   "outputs": [
    {
     "name": "stderr",
     "output_type": "stream",
     "text": [
      "2024-12-19 21:22:44.149787: W external/xla/xla/service/gpu/nvptx_compiler.cc:765] The NVIDIA driver's CUDA version is 12.2 which is older than the ptxas CUDA version (12.6.85). Because the driver is older than the ptxas version, XLA is disabling parallel compilation, which may slow down compilation. You should update your NVIDIA driver or use the NVIDIA-provided CUDA forward compatibility packages.\n"
     ]
    }
   ],
   "source": [
    "x = jnp.zeros((1, 1920, 1920))"
   ]
  },
  {
   "cell_type": "code",
   "execution_count": 6,
   "id": "809162d3-4692-441a-855c-4c6d6d9b5166",
   "metadata": {},
   "outputs": [
    {
     "data": {
      "text/plain": [
       "{cuda(id=0)}"
      ]
     },
     "execution_count": 6,
     "metadata": {},
     "output_type": "execute_result"
    }
   ],
   "source": [
    "x.devices()"
   ]
  },
  {
   "cell_type": "code",
   "execution_count": 7,
   "id": "dbabd235-886d-47dc-acf1-dee13a2eec34",
   "metadata": {},
   "outputs": [],
   "source": [
    "x_device1 = jax.device_put(x, devices[1])"
   ]
  },
  {
   "cell_type": "code",
   "execution_count": 8,
   "id": "266e1038-4245-44ef-90fb-8c89d5a7ab17",
   "metadata": {},
   "outputs": [
    {
     "data": {
      "text/plain": [
       "{cuda(id=1)}"
      ]
     },
     "execution_count": 8,
     "metadata": {},
     "output_type": "execute_result"
    }
   ],
   "source": [
    "x_device1.devices()"
   ]
  },
  {
   "cell_type": "markdown",
   "id": "cf2efebd-8267-4dab-b060-376017f2d102",
   "metadata": {},
   "source": [
    "### Random"
   ]
  },
  {
   "cell_type": "code",
   "execution_count": 9,
   "id": "c6e7d818-7814-4c70-9393-1f038371581d",
   "metadata": {},
   "outputs": [],
   "source": [
    "seed = 0\n",
    "key = jax.random.PRNGKey(seed)"
   ]
  },
  {
   "cell_type": "code",
   "execution_count": 10,
   "id": "7f0df794-4f2e-44f0-bb32-aa596e2aabb6",
   "metadata": {},
   "outputs": [],
   "source": [
    "xrand = jax.random.normal(key, (1, 1920, 1920))"
   ]
  },
  {
   "cell_type": "code",
   "execution_count": 11,
   "id": "4b5f82b8-22b1-441c-9b1e-de30fd7b8a27",
   "metadata": {},
   "outputs": [
    {
     "data": {
      "text/plain": [
       "{cuda(id=0)}"
      ]
     },
     "execution_count": 11,
     "metadata": {},
     "output_type": "execute_result"
    }
   ],
   "source": [
    "xrand.devices()"
   ]
  },
  {
   "cell_type": "markdown",
   "id": "04b9ff13-688d-4e4c-834b-388984179f99",
   "metadata": {},
   "source": [
    "### JIT"
   ]
  },
  {
   "cell_type": "code",
   "execution_count": 12,
   "id": "d0e6da9c-c1da-49eb-886b-7742fd7a9442",
   "metadata": {},
   "outputs": [],
   "source": [
    "def squared_sum(x):\n",
    "    return jnp.sum(x**2)\n",
    "\n",
    "@jax.jit\n",
    "def squared_sum_jit(x):\n",
    "    return jnp.sum(x**2)"
   ]
  },
  {
   "cell_type": "code",
   "execution_count": 13,
   "id": "8e740580-2a3b-47ff-9cc6-9a30b4196292",
   "metadata": {},
   "outputs": [
    {
     "data": {
      "text/plain": [
       "0.06594208301976323"
      ]
     },
     "execution_count": 13,
     "metadata": {},
     "output_type": "execute_result"
    }
   ],
   "source": [
    "timeit('squared_sum(xrand)', globals=globals(), number=1)"
   ]
  },
  {
   "cell_type": "code",
   "execution_count": 14,
   "id": "2da4f0a4-87c6-4777-9d2c-91884af58d8d",
   "metadata": {},
   "outputs": [
    {
     "data": {
      "text/plain": [
       "0.04803331685252488"
      ]
     },
     "execution_count": 14,
     "metadata": {},
     "output_type": "execute_result"
    }
   ],
   "source": [
    "timeit('squared_sum_jit(xrand)', globals=globals(), number=1)"
   ]
  },
  {
   "cell_type": "markdown",
   "id": "0c29e967-d076-4715-bc1b-f044c37890c6",
   "metadata": {},
   "source": [
    "### Grad"
   ]
  },
  {
   "cell_type": "code",
   "execution_count": 15,
   "id": "aefb7e4e-adc0-4f25-ad4d-2a4da62ec99f",
   "metadata": {},
   "outputs": [],
   "source": [
    "xrand = jax.random.normal(key, (10, 1, 1920, 1920))"
   ]
  },
  {
   "cell_type": "code",
   "execution_count": 16,
   "id": "7ad8424c-1def-4ebf-89db-8df07bf594b8",
   "metadata": {},
   "outputs": [],
   "source": [
    "squared_sum_grad_jit = jax.grad(squared_sum_jit)"
   ]
  },
  {
   "cell_type": "code",
   "execution_count": 17,
   "id": "0218c06d-5866-4b93-bc77-2d3a94b2d386",
   "metadata": {},
   "outputs": [
    {
     "data": {
      "text/plain": [
       "(10, 1, 1920, 1920)"
      ]
     },
     "execution_count": 17,
     "metadata": {},
     "output_type": "execute_result"
    }
   ],
   "source": [
    "xrand_grad = squared_sum_grad_jit(xrand)\n",
    "xrand_grad.shape"
   ]
  },
  {
   "cell_type": "code",
   "execution_count": 18,
   "id": "a77a8bc6-af0b-4918-bd65-9b53df5f2d99",
   "metadata": {},
   "outputs": [],
   "source": [
    "batch_squared_sum_grad_jit = jax.vmap(squared_sum_grad_jit, in_axes=0)"
   ]
  },
  {
   "cell_type": "code",
   "execution_count": 19,
   "id": "8cc168ec-18c7-4d10-9c64-20b6c9797e3b",
   "metadata": {},
   "outputs": [],
   "source": [
    "xrand_grad_vmap = batch_squared_sum_grad_jit(xrand)"
   ]
  },
  {
   "cell_type": "code",
   "execution_count": 20,
   "id": "300d2d4a-c6dc-48f4-b0be-c677aa4ae24e",
   "metadata": {},
   "outputs": [
    {
     "data": {
      "text/plain": [
       "{cuda(id=0)}"
      ]
     },
     "execution_count": 20,
     "metadata": {},
     "output_type": "execute_result"
    }
   ],
   "source": [
    "xrand_grad_vmap.devices()"
   ]
  },
  {
   "cell_type": "code",
   "execution_count": 21,
   "id": "5ef07d33-6b09-4918-a1cc-b0650f4111de",
   "metadata": {},
   "outputs": [
    {
     "data": {
      "text/plain": [
       "(10, 1, 1920, 1920)"
      ]
     },
     "execution_count": 21,
     "metadata": {},
     "output_type": "execute_result"
    }
   ],
   "source": [
    "xrand_grad_vmap.shape"
   ]
  },
  {
   "cell_type": "code",
   "execution_count": 22,
   "id": "3873db20-8427-4a05-99f1-7584b3789e01",
   "metadata": {},
   "outputs": [
    {
     "data": {
      "text/plain": [
       "Array(True, dtype=bool)"
      ]
     },
     "execution_count": 22,
     "metadata": {},
     "output_type": "execute_result"
    }
   ],
   "source": [
    "(xrand_grad_vmap == xrand_grad).all()"
   ]
  },
  {
   "cell_type": "markdown",
   "id": "62662ebc-f3b7-44bb-b036-857e29783e16",
   "metadata": {},
   "source": [
    "### vmap"
   ]
  },
  {
   "cell_type": "code",
   "execution_count": 58,
   "id": "89e719d8-1c3c-4c43-87b7-aed1634015d1",
   "metadata": {},
   "outputs": [
    {
     "name": "stdout",
     "output_type": "stream",
     "text": [
      "(1, 5)\n",
      "(5, 1)\n",
      "[[ 0.3756877  -2.5666852  -0.5421834   2.4981186   0.48894006]]\n"
     ]
    }
   ],
   "source": [
    "# Basic vectorization along first axis (default)\n",
    "f = lambda x: x + 1\n",
    "vectorized_f = jax.vmap(f)  # equivalent to in_axes=0\n",
    "vectorized_f(jnp.array([1, 2, 3]))  # -> [2, 3, 4]\n",
    "\n",
    "# Add arguments with different axes\n",
    "g = lambda x, y: x + y\n",
    "vectorized_g = jax.vmap(g, in_axes=(0, 1))  # vectorize x along 0, y along 1\n",
    "\n",
    "x1 = jax.random.normal(key, (1,5))\n",
    "x2 = jax.random.normal(key, (5,1))\n",
    "\n",
    "print(x1.shape)\n",
    "print(x2.shape)\n",
    "\n",
    "r = vectorized_g(x1, x2)\n",
    "print(r)"
   ]
  },
  {
   "cell_type": "code",
   "execution_count": 61,
   "id": "f5037c45-de64-42a4-91f4-2caa768d9790",
   "metadata": {},
   "outputs": [
    {
     "data": {
      "text/plain": [
       "(5, 5)"
      ]
     },
     "execution_count": 61,
     "metadata": {},
     "output_type": "execute_result"
    }
   ],
   "source": [
    "r2 = x1+x2\n",
    "r2.shape"
   ]
  },
  {
   "cell_type": "code",
   "execution_count": 63,
   "id": "8341bc52-fec9-446a-b844-2c7438c3d061",
   "metadata": {},
   "outputs": [],
   "source": []
  },
  {
   "cell_type": "code",
   "execution_count": 64,
   "id": "c829eb1d-0165-4a2e-a0a9-faf400cfc27a",
   "metadata": {},
   "outputs": [
    {
     "data": {
      "text/plain": [
       "(1, 5)"
      ]
     },
     "execution_count": 64,
     "metadata": {},
     "output_type": "execute_result"
    }
   ],
   "source": [
    "x1 = jax.random.normal(key, (1,5))\n",
    "x2 = jax.random.normal(key, (5,))\n",
    "h = lambda x, y: x + y\n",
    "vectorized_h = jax.vmap(h, in_axes=(0, None))\n",
    "vectorized_h(x1,x2).shape"
   ]
  },
  {
   "cell_type": "code",
   "execution_count": 66,
   "id": "3c015d1f-3595-4ebe-acba-d14763024a15",
   "metadata": {},
   "outputs": [
    {
     "data": {
      "text/plain": [
       "(1, 5)"
      ]
     },
     "execution_count": 66,
     "metadata": {},
     "output_type": "execute_result"
    }
   ],
   "source": [
    "(x1+x2).shape"
   ]
  },
  {
   "cell_type": "code",
   "execution_count": 92,
   "id": "91b098e1-7ec0-46cc-bd86-91324654742b",
   "metadata": {},
   "outputs": [
    {
     "data": {
      "text/plain": [
       "(10, 1, 1920, 1920)"
      ]
     },
     "execution_count": 92,
     "metadata": {},
     "output_type": "execute_result"
    }
   ],
   "source": [
    "xrand.shape"
   ]
  },
  {
   "cell_type": "code",
   "execution_count": 93,
   "id": "b92fac99-d0cf-4a50-b7de-b4e0913698a3",
   "metadata": {},
   "outputs": [
    {
     "data": {
      "text/plain": [
       "(10, 1920, 1920)"
      ]
     },
     "execution_count": 93,
     "metadata": {},
     "output_type": "execute_result"
    }
   ],
   "source": [
    "einops.rearrange(xrand, 'b c h w -> (b c) h w').shape"
   ]
  },
  {
   "cell_type": "code",
   "execution_count": null,
   "id": "de2aec42-3688-4a89-837b-7de3a6484b80",
   "metadata": {},
   "outputs": [],
   "source": []
  }
 ],
 "metadata": {
  "kernelspec": {
   "display_name": "jax.cwang31",
   "language": "python",
   "name": "jax.cwang31"
  },
  "language_info": {
   "codemirror_mode": {
    "name": "ipython",
    "version": 3
   },
   "file_extension": ".py",
   "mimetype": "text/x-python",
   "name": "python",
   "nbconvert_exporter": "python",
   "pygments_lexer": "ipython3",
   "version": "3.9.20"
  }
 },
 "nbformat": 4,
 "nbformat_minor": 5
}
