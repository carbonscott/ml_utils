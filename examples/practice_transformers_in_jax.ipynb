{
 "cells": [
  {
   "cell_type": "code",
   "execution_count": 1,
   "id": "f37aefbd-7b43-488f-b065-f7c74aa4f56e",
   "metadata": {},
   "outputs": [],
   "source": [
    "import jax\n",
    "import jax.numpy as jnp\n",
    "\n",
    "from einops import rearrange, repeat, reduce, einsum"
   ]
  },
  {
   "cell_type": "code",
   "execution_count": 39,
   "id": "de251b02-73dc-450d-adb8-9f81a9aebbbe",
   "metadata": {},
   "outputs": [],
   "source": [
    "from flax import nnx"
   ]
  },
  {
   "cell_type": "code",
   "execution_count": 3,
   "id": "602558e6-534d-4762-9662-4c145f56d544",
   "metadata": {},
   "outputs": [
    {
     "name": "stderr",
     "output_type": "stream",
     "text": [
      "2024-12-20 15:45:55.829035: W external/xla/xla/service/gpu/nvptx_compiler.cc:765] The NVIDIA driver's CUDA version is 12.2 which is older than the ptxas CUDA version (12.6.85). Because the driver is older than the ptxas version, XLA is disabling parallel compilation, which may slow down compilation. You should update your NVIDIA driver or use the NVIDIA-provided CUDA forward compatibility packages.\n"
     ]
    }
   ],
   "source": [
    "key = jax.random.PRNGKey(0)"
   ]
  },
  {
   "attachments": {},
   "cell_type": "markdown",
   "id": "18491d68-9841-4102-8ff7-5bb9b44a8b4a",
   "metadata": {},
   "source": [
    "### Patchify"
   ]
  },
  {
   "cell_type": "code",
   "execution_count": 9,
   "id": "48b0fe30-8aa2-41ff-99e5-7793c5bf8e35",
   "metadata": {},
   "outputs": [
    {
     "data": {
      "text/plain": [
       "(10, 1, 1920, 1920)"
      ]
     },
     "execution_count": 9,
     "metadata": {},
     "output_type": "execute_result"
    }
   ],
   "source": [
    "B, C, H, W = 10, 1, 1920, 1920\n",
    "x1 = jax.random.normal(key, (B, C, H, W))\n",
    "x1.shape"
   ]
  },
  {
   "cell_type": "code",
   "execution_count": 10,
   "id": "28917d4a-9f64-4349-9645-0f8deb005153",
   "metadata": {},
   "outputs": [
    {
     "data": {
      "text/plain": [
       "(10, 1, 15, 15, 128, 128)"
      ]
     },
     "execution_count": 10,
     "metadata": {},
     "output_type": "execute_result"
    }
   ],
   "source": [
    "patch_size = 128\n",
    "rearrange(x1, 'b c (h p1) (w p2) -> b c h w p1 p2', p1=patch_size, p2=patch_size).shape"
   ]
  },
  {
   "cell_type": "markdown",
   "id": "feec88ac-fd31-4400-bc33-2d2b66003f27",
   "metadata": {},
   "source": [
    "### Multi head attention"
   ]
  },
  {
   "cell_type": "code",
   "execution_count": 21,
   "id": "026efa81-dfdc-4cf7-a78e-74d9c73bf921",
   "metadata": {},
   "outputs": [],
   "source": [
    "B, T, E = 10, 1024, 128\n",
    "N = 4  # 4 heads\n",
    "qkv = jax.random.normal(key, (B, T, 3*E)) # Each of q, k, v has a T, respectively."
   ]
  },
  {
   "cell_type": "code",
   "execution_count": 23,
   "id": "764010ba-d7d6-47fa-99ca-0b9d64c4b20c",
   "metadata": {},
   "outputs": [],
   "source": [
    "# before the scaled dot product, we need\n",
    "# [B, 3T, E] -> [B, N, 3T, D] where N is number of heads, D is the head size\n",
    "q, k, v = rearrange(qkv, 'B T (three N D) -> three B N T D', N=N, three=3)"
   ]
  },
  {
   "cell_type": "code",
   "execution_count": 24,
   "id": "2c3466f3-5f2c-4330-a7d1-4ccadb363ebf",
   "metadata": {},
   "outputs": [
    {
     "data": {
      "text/plain": [
       "(10, 4, 1024, 32)"
      ]
     },
     "execution_count": 24,
     "metadata": {},
     "output_type": "execute_result"
    }
   ],
   "source": [
    "q.shape"
   ]
  },
  {
   "cell_type": "code",
   "execution_count": 38,
   "id": "0b3ff54b-8ffb-46e0-a6c6-d4ed025062c1",
   "metadata": {},
   "outputs": [],
   "source": [
    "# Scaled dot product to get attention score\n",
    "scale = 1/jnp.sqrt(E/N)\n",
    "atten_score = einsum(q, k, 'B N T1 D, B N T2 D -> B N T1 T2') * scale"
   ]
  },
  {
   "cell_type": "code",
   "execution_count": null,
   "id": "4ea28f06-025d-4651-9a71-5a70783dc162",
   "metadata": {},
   "outputs": [],
   "source": []
  },
  {
   "cell_type": "code",
   "execution_count": null,
   "id": "46eb3909-c07b-48de-9854-abb06ad30c19",
   "metadata": {},
   "outputs": [],
   "source": []
  }
 ],
 "metadata": {
  "kernelspec": {
   "display_name": "jax.cwang31",
   "language": "python",
   "name": "jax.cwang31"
  },
  "language_info": {
   "codemirror_mode": {
    "name": "ipython",
    "version": 3
   },
   "file_extension": ".py",
   "mimetype": "text/x-python",
   "name": "python",
   "nbconvert_exporter": "python",
   "pygments_lexer": "ipython3",
   "version": "3.9.20"
  }
 },
 "nbformat": 4,
 "nbformat_minor": 5
}
